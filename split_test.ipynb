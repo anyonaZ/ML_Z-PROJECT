{
 "cells": [
  {
   "cell_type": "code",
   "execution_count": 1,
   "id": "6ada6e81-61d3-4030-ab32-a15fe1f7ff17",
   "metadata": {},
   "outputs": [],
   "source": [
    "import os \n",
    "from sklearn.model_selection import train_test_split\n",
    "import shutil"
   ]
  },
  {
   "cell_type": "code",
   "execution_count": 2,
   "id": "3902b569-0913-45a3-944f-cb3ea16fec1b",
   "metadata": {},
   "outputs": [],
   "source": [
    "# set the path to your dataset\n",
    "dataset_path = '/home/anyona/Documents/Z_PROJECT/code_005/code_001/data_set/original_images'\n",
    "images = os.listdir(dataset_path) # gets all image filenames"
   ]
  },
  {
   "cell_type": "code",
   "execution_count": 3,
   "id": "a0679f1a-686c-4dc9-8366-b77e25937d5b",
   "metadata": {},
   "outputs": [],
   "source": [
    "# check only image files are loaded\n",
    "images = [img for img in images if img.endswith(('.png', '.jpg', '.jpeg'))]"
   ]
  },
  {
   "cell_type": "code",
   "execution_count": 4,
   "id": "dd9ec710-1c07-45ee-ad0e-698dfb2f94ab",
   "metadata": {},
   "outputs": [],
   "source": [
    "# split the dataset\n",
    "train_images, val_images = train_test_split(images, test_size=0.2, random_state=42)"
   ]
  },
  {
   "cell_type": "code",
   "execution_count": 5,
   "id": "3d8a6313-209b-4d46-8936-050c5a1bf94c",
   "metadata": {},
   "outputs": [],
   "source": [
    "# create directories for training and validation sets\n",
    "train_path = '/home/anyona/Documents/Z_PROJECT/code_005/code_001/data_set/train_set'\n",
    "val_path = '/home/anyona/Documents/Z_PROJECT/code_005/code_001/data_set/val_set'\n",
    "\n",
    "os.makedirs(train_path, exist_ok=True)\n",
    "os.makedirs(val_path, exist_ok=True)"
   ]
  },
  {
   "cell_type": "code",
   "execution_count": 6,
   "id": "490aa378-e36c-4caa-9c5e-91c879ae347a",
   "metadata": {},
   "outputs": [],
   "source": [
    "# Move training images to the train directory\n",
    "for img in train_images:\n",
    "    src = os.path.join(dataset_path, img)\n",
    "    dst = os.path.join(train_path, img)\n",
    "    shutil.move(src, dst)"
   ]
  },
  {
   "cell_type": "code",
   "execution_count": 7,
   "id": "d3e9beaa-2128-49de-9792-d29a2cf89669",
   "metadata": {},
   "outputs": [
    {
     "name": "stdout",
     "output_type": "stream",
     "text": [
      "Training set: 76 images\n",
      "Validation set: 19 images\n"
     ]
    }
   ],
   "source": [
    "# move validation images to the validation directory\n",
    "for img in val_images:\n",
    "    src = os.path.join(dataset_path, img)\n",
    "    dst = os.path.join(val_path, img)\n",
    "    shutil.move(src, dst)\n",
    "\n",
    "print(f\"Training set: {len(train_images)} images\")\n",
    "print(f\"Validation set: {len(val_images)} images\")"
   ]
  },
  {
   "cell_type": "code",
   "execution_count": null,
   "id": "b625926d-4d00-4f56-9b02-7552fd781d44",
   "metadata": {},
   "outputs": [],
   "source": []
  }
 ],
 "metadata": {
  "kernelspec": {
   "display_name": "Python (myenv)",
   "language": "python",
   "name": "myenv"
  },
  "language_info": {
   "codemirror_mode": {
    "name": "ipython",
    "version": 3
   },
   "file_extension": ".py",
   "mimetype": "text/x-python",
   "name": "python",
   "nbconvert_exporter": "python",
   "pygments_lexer": "ipython3",
   "version": "3.12.7"
  }
 },
 "nbformat": 4,
 "nbformat_minor": 5
}
